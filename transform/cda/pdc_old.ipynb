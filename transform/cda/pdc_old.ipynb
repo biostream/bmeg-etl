{
 "cells": [
  {
   "cell_type": "code",
   "execution_count": 1,
   "metadata": {},
   "outputs": [
    {
     "name": "stdout",
     "output_type": "stream",
     "text": [
      "studyExperimentalDesign 16300\n",
      "biospecimenPerStudy 13000\n",
      "clinicalPerStudy 14370\n",
      "protocolPerStudy 2142\n",
      "study 440\n",
      "clinicalMetadata 0\n",
      "uiSunburstChart 220\n",
      "quantitiveDataCPTAC2 10000\n",
      "programsProjectsStudies 16\n",
      "fileMetadata 8500\n",
      "allCases 14655\n",
      "allPrograms 16\n",
      "tissueSitesAvailable 1704\n",
      "diseasesAvailable 2059\n",
      "allExperimentTypes 144\n",
      "diseaseTypesPerProject 220\n",
      "projectsPerExperimentType 18\n",
      "filesCountPerStudy 1440\n",
      "filesPerStudy 60000\n",
      "projectsPerInstrument 408\n",
      "uiProtocol 1071\n",
      "pdcDataStats 9\n",
      "workflowMetadata 405\n",
      "uiStudy 260\n",
      "uiCase 7000\n",
      "uiFile 6000\n",
      "uiTissueSiteCaseCount 1491\n",
      "uiAnalyticalFractionsCount 12\n",
      "uiExperimentBar 12\n",
      "uiExperimentPie 36\n",
      "uiPublication 27\n",
      "paginatedCasesSamplesAliquots 958\n",
      ">>>> expected to have errors <<<<\n",
      "experimentalMetadata {'errors': [{'message': 'Field \"experimentalMetadata\" argument \"study_submitter_id\" of type \"String!\" is required but not provided.', 'locations': [{'line': 2, 'column': 1}]}]}\n",
      "experimentalMetadata No data\n",
      "casePerFile {'errors': [{'message': 'Field \"casePerFile\" argument \"file_id\" of type \"String!\" is required but not provided.', 'locations': [{'line': 2, 'column': 1}]}]}\n",
      "casePerFile No data\n",
      "uiExperimentFileCount {'errors': [{'message': 'Field \"uiExperimentFileCount\" argument \"case_submitter_id\" of type \"String!\" is required but not provided.', 'locations': [{'line': 2, 'column': 1}]}]}\n",
      "uiExperimentFileCount No data\n",
      "uiDataCategoryFileCount {'errors': [{'message': 'Field \"uiDataCategoryFileCount\" argument \"case_submitter_id\" of type \"String!\" is required but not provided.', 'locations': [{'line': 2, 'column': 1}]}]}\n",
      "uiDataCategoryFileCount No data\n",
      "uiGeneStudySpectralCount {'errors': [{'message': 'Field \"uiGeneStudySpectralCount\" argument \"gene_name\" of type \"String!\" is required but not provided.', 'locations': [{'line': 2, 'column': 1}]}]}\n",
      "uiGeneStudySpectralCount No data\n",
      "uiGeneAliquotSpectralCount {'errors': [{'message': 'Field \"uiGeneAliquotSpectralCount\" argument \"gene_name\" of type \"String!\" is required but not provided.', 'locations': [{'line': 2, 'column': 1}]}]}\n",
      "uiGeneAliquotSpectralCount No data\n"
     ]
    }
   ],
   "source": [
    "import pdc\n",
    "pdc.transform()"
   ]
  },
  {
   "cell_type": "code",
   "execution_count": null,
   "metadata": {},
   "outputs": [],
   "source": []
  }
 ],
 "metadata": {
  "kernelspec": {
   "display_name": "Python 3",
   "language": "python",
   "name": "python3"
  },
  "language_info": {
   "codemirror_mode": {
    "name": "ipython",
    "version": 3
   },
   "file_extension": ".py",
   "mimetype": "text/x-python",
   "name": "python",
   "nbconvert_exporter": "python",
   "pygments_lexer": "ipython3",
   "version": "3.7.3"
  }
 },
 "nbformat": 4,
 "nbformat_minor": 2
}
