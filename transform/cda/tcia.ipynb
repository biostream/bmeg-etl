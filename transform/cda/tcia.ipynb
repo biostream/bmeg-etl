{
 "cells": [
  {
   "cell_type": "code",
   "execution_count": 81,
   "metadata": {},
   "outputs": [],
   "source": [
    "import json\n",
    "from attrdict import AttrDict\n",
    "from collections import defaultdict\n",
    "import networkx as nx\n",
    "\n",
    "\n",
    "def load(name):\n",
    "    \"\"\"Loads a file\"\"\"\n",
    "    with open('bmeg-etl/source/tcia/{}.json'.format(name), 'r') as ins:\n",
    "        for line in ins:\n",
    "            yield AttrDict(json.loads(line))\n",
    "\n",
    "\n",
    "def load_all():\n",
    "    \"\"\"Returns a tuple of object arrays\"\"\"\n",
    "    all_patients = [o for o in load('patients')]\n",
    "    all_patient_study = [o for o in load('patient_study')]\n",
    "    all_series = [o for o in load('series')]\n",
    "    return (all_patients, all_patient_study, all_series)\n",
    "\n",
    "\n",
    "\n",
    "class TCIATransformer():\n",
    "\n",
    "    def __init__(self):\n",
    "        # fetch data\n",
    "        (self.all_patients, self.all_patient_study, self.all_series) = load_all()\n",
    "        for a in (self.all_patients, self.all_patient_study, self.all_series):\n",
    "            print(len(a))\n",
    "\n",
    "    def graph(self):\n",
    "        \"\"\"Creates graph\"\"\"\n",
    "        G = nx.MultiDiGraph()\n",
    "        G.add_nodes_from(set([case.Collection for case in self.all_patients]), label='Project')\n",
    "        G.add_nodes_from(set([case.PatientID for case in self.all_patients]), label='Case')\n",
    "        G.add_edges_from([(case.Collection, case.PatientID) for case in self.all_patients], label='cases')\n",
    "\n",
    "        # add ['PatientName', 'PatientSex']\n",
    "        G.add_nodes_from(set([case.PatientID + '-demographic' for case in self.all_patients]), label='Demographic')\n",
    "        G.add_edges_from([(case.PatientID, case.PatientID + '-demographic' ) for case in self.all_patients], label='demographics')\n",
    "\n",
    "        G.add_nodes_from(set([study.StudyInstanceUID for study in self.all_patient_study]), label='Study')\n",
    "        G.add_edges_from([(study.PatientID, study.StudyInstanceUID ) for study in self.all_patient_study], label='studies')\n",
    "\n",
    "        # note the api seems to be returning one series that is really a study   \n",
    "        series = list(filter(lambda s: s.SeriesInstanceUID != '1.3.6.1.4.1.14519.5.2.1.6279.6001.287560874054243719452635194040', tcia_transformer.all_series))        \n",
    "        G.add_nodes_from(set([s.SeriesInstanceUID for s in series]), label='Series')\n",
    "        G.add_edges_from([(s.StudyInstanceUID, s.SeriesInstanceUID ) for s in series], label='series')\n",
    "        \n",
    "        return G\n"
   ]
  },
  {
   "cell_type": "code",
   "execution_count": 2,
   "metadata": {},
   "outputs": [
    {
     "ename": "ModuleNotFoundError",
     "evalue": "No module named 'bmeg_etl.transformer'",
     "output_type": "error",
     "traceback": [
      "\u001b[0;31m---------------------------------------------------------------------------\u001b[0m",
      "\u001b[0;31mModuleNotFoundError\u001b[0m                       Traceback (most recent call last)",
      "\u001b[0;32m<ipython-input-2-c3c5ba141180>\u001b[0m in \u001b[0;36m<module>\u001b[0;34m\u001b[0m\n\u001b[0;32m----> 1\u001b[0;31m \u001b[0;32mfrom\u001b[0m \u001b[0mbmeg_etl\u001b[0m\u001b[0;34m.\u001b[0m\u001b[0mtransformer\u001b[0m\u001b[0;34m.\u001b[0m\u001b[0mtcia\u001b[0m\u001b[0;34m.\u001b[0m\u001b[0mtcia_transformer\u001b[0m \u001b[0;32mimport\u001b[0m \u001b[0mTCIATransformer\u001b[0m\u001b[0;34m\u001b[0m\u001b[0;34m\u001b[0m\u001b[0m\n\u001b[0m\u001b[1;32m      2\u001b[0m \u001b[0;34m\u001b[0m\u001b[0m\n\u001b[1;32m      3\u001b[0m \u001b[0;34m\u001b[0m\u001b[0m\n\u001b[1;32m      4\u001b[0m \u001b[0mtcia_transformer\u001b[0m \u001b[0;34m=\u001b[0m \u001b[0mTCIATransformer\u001b[0m\u001b[0;34m(\u001b[0m\u001b[0;34m)\u001b[0m\u001b[0;34m\u001b[0m\u001b[0;34m\u001b[0m\u001b[0m\n\u001b[1;32m      5\u001b[0m \u001b[0mG\u001b[0m \u001b[0;34m=\u001b[0m \u001b[0mtcia_transformer\u001b[0m\u001b[0;34m.\u001b[0m\u001b[0mgraph\u001b[0m\u001b[0;34m(\u001b[0m\u001b[0;34m)\u001b[0m\u001b[0;34m\u001b[0m\u001b[0;34m\u001b[0m\u001b[0m\n",
      "\u001b[0;31mModuleNotFoundError\u001b[0m: No module named 'bmeg_etl.transformer'"
     ]
    }
   ],
   "source": [
    "from bmeg_etl.transformer.tcia.tcia_transformer import TCIATransformer\n",
    "\n",
    "\n",
    "tcia_transformer = TCIATransformer()\n",
    "G = tcia_transformer.graph()\n",
    "assert len(G.nodes) == 188666, 'Should have lots of nodes {}'.format(len(G.nodes))\n",
    "\n",
    "node_counts = defaultdict(int)\n",
    "for k, v in list(G.nodes.data()):\n",
    "    node_counts[v['label']] += 1\n",
    "actual = sorted(node_counts.items())\n",
    "print(actual)\n",
    "\n"
   ]
  },
  {
   "cell_type": "code",
   "execution_count": 5,
   "metadata": {},
   "outputs": [
    {
     "ename": "ModuleNotFoundError",
     "evalue": "No module named 'transform'",
     "output_type": "error",
     "traceback": [
      "\u001b[0;31m---------------------------------------------------------------------------\u001b[0m",
      "\u001b[0;31mModuleNotFoundError\u001b[0m                       Traceback (most recent call last)",
      "\u001b[0;32m<ipython-input-5-4416cf28fcf7>\u001b[0m in \u001b[0;36m<module>\u001b[0;34m\u001b[0m\n\u001b[0;32m----> 1\u001b[0;31m \u001b[0;32mfrom\u001b[0m \u001b[0mbmeg_etl\u001b[0m\u001b[0;34m.\u001b[0m\u001b[0mtransform\u001b[0m\u001b[0;34m.\u001b[0m\u001b[0mtcia\u001b[0m\u001b[0;34m.\u001b[0m\u001b[0mtcia_transformer\u001b[0m \u001b[0;32mimport\u001b[0m \u001b[0mTCIATransformer\u001b[0m\u001b[0;34m\u001b[0m\u001b[0;34m\u001b[0m\u001b[0m\n\u001b[0m\u001b[1;32m      2\u001b[0m \u001b[0;31m#import bmeg_etl.transform.tcia.tcia_transformer\u001b[0m\u001b[0;34m\u001b[0m\u001b[0;34m\u001b[0m\u001b[0;34m\u001b[0m\u001b[0m\n\u001b[1;32m      3\u001b[0m \u001b[0mdir\u001b[0m\u001b[0;34m(\u001b[0m\u001b[0mbmeg_etl\u001b[0m\u001b[0;34m)\u001b[0m\u001b[0;34m\u001b[0m\u001b[0;34m\u001b[0m\u001b[0m\n",
      "\u001b[0;32m~/work/bmeg_etl/transform/tcia/tcia_transformer.py\u001b[0m in \u001b[0;36m<module>\u001b[0;34m\u001b[0m\n\u001b[0;32m----> 1\u001b[0;31m \u001b[0;32mfrom\u001b[0m \u001b[0mtransform\u001b[0m\u001b[0;34m.\u001b[0m\u001b[0mtcia\u001b[0m\u001b[0;34m.\u001b[0m\u001b[0mtcia_harvester\u001b[0m \u001b[0;32mimport\u001b[0m \u001b[0mload_all\u001b[0m\u001b[0;34m\u001b[0m\u001b[0;34m\u001b[0m\u001b[0m\n\u001b[0m\u001b[1;32m      2\u001b[0m \u001b[0;32mimport\u001b[0m \u001b[0mnetworkx\u001b[0m \u001b[0;32mas\u001b[0m \u001b[0mnx\u001b[0m\u001b[0;34m\u001b[0m\u001b[0;34m\u001b[0m\u001b[0m\n\u001b[1;32m      3\u001b[0m \u001b[0;34m\u001b[0m\u001b[0m\n\u001b[1;32m      4\u001b[0m \u001b[0;34m\u001b[0m\u001b[0m\n\u001b[1;32m      5\u001b[0m \u001b[0;32mclass\u001b[0m \u001b[0mTCIATransformer\u001b[0m\u001b[0;34m(\u001b[0m\u001b[0;34m)\u001b[0m\u001b[0;34m:\u001b[0m\u001b[0;34m\u001b[0m\u001b[0;34m\u001b[0m\u001b[0m\n",
      "\u001b[0;31mModuleNotFoundError\u001b[0m: No module named 'transform'"
     ]
    }
   ],
   "source": [
    "from bmeg_etl.transform.tcia.tcia_transformer import TCIATransformer\n",
    "#import bmeg_etl.transform.tcia.tcia_transformer\n",
    "dir(bmeg_etl)"
   ]
  },
  {
   "cell_type": "code",
   "execution_count": 4,
   "metadata": {},
   "outputs": [
    {
     "name": "stdout",
     "output_type": "stream",
     "text": [
      "['/home/jovyan/work', '/opt/conda/lib/python37.zip', '/opt/conda/lib/python3.7', '/opt/conda/lib/python3.7/lib-dynload', '', '/opt/conda/lib/python3.7/site-packages', '/home/jovyan/client-apis/pyAnVIL', '/opt/conda/lib/python3.7/site-packages/IPython/extensions', '/home/jovyan/.ipython']\n"
     ]
    }
   ],
   "source": [
    "import sys\n",
    "print(sys.path)"
   ]
  },
  {
   "cell_type": "code",
   "execution_count": 29,
   "metadata": {},
   "outputs": [
    {
     "data": {
      "text/plain": [
       "AttrDict({'PatientID': 'TCGA-08-0244', 'PatientName': '', 'PatientSex': 'M', 'Collection': 'TCGA-GBM'})"
      ]
     },
     "execution_count": 29,
     "metadata": {},
     "output_type": "execute_result"
    }
   ],
   "source": [
    "tcia_transformer.all_patients[0]"
   ]
  },
  {
   "cell_type": "code",
   "execution_count": 26,
   "metadata": {},
   "outputs": [
    {
     "data": {
      "text/plain": [
       "AttrDict({'Collection': 'TCGA-GBM', 'PatientID': 'TCGA-06-0119', 'PatientName': 'TCGA-06-0119', 'PatientSex': 'F', 'StudyInstanceUID': '1.3.6.1.4.1.14519.5.2.1.4591.4001.283171458436570880779969690543', 'StudyDate': '2003-12-26', 'SeriesCount': 16})"
      ]
     },
     "execution_count": 26,
     "metadata": {},
     "output_type": "execute_result"
    }
   ],
   "source": [
    "tcia_transformer.all_patient_study[0]"
   ]
  },
  {
   "cell_type": "code",
   "execution_count": 27,
   "metadata": {},
   "outputs": [
    {
     "data": {
      "text/plain": [
       "AttrDict({'SeriesInstanceUID': '1.3.6.1.4.1.14519.5.2.1.7695.4001.306204232344341694648035234440', 'StudyInstanceUID': '1.3.6.1.4.1.14519.5.2.1.7695.4001.130563880911723253267280582465', 'Modality': 'MR', 'SeriesDate': '1998-12-08', 'SeriesDescription': '3DSPGR AXIAL', 'BodyPartExamined': 'BRAIN', 'SeriesNumber': '2.000000', 'Collection': 'TCGA-GBM', 'Manufacturer': 'GE MEDICAL SYSTEMS', 'ManufacturerModelName': 'GENESIS_SIGNA', 'SoftwareVersions': '07', 'Visibility': '1', 'ImageCount': 124})"
      ]
     },
     "execution_count": 27,
     "metadata": {},
     "output_type": "execute_result"
    }
   ],
   "source": [
    "tcia_transformer.all_series[0]"
   ]
  },
  {
   "cell_type": "code",
   "execution_count": 84,
   "metadata": {},
   "outputs": [
    {
     "data": {
      "image/png": "[encoded data removed]",
      "text/plain": [
       "<IPython.core.display.Image object>"
      ]
     },
     "execution_count": 84,
     "metadata": {},
     "output_type": "execute_result"
    }
   ],
   "source": [
    "from graph_summarizer import summarize_graph, draw_summary\n",
    "draw_summary(summarize_graph(G), 'tcia_summary')"
   ]
  },
  {
   "cell_type": "code",
   "execution_count": 42,
   "metadata": {},
   "outputs": [
    {
     "data": {
      "text/plain": [
       "dict_keys(['PatientID', 'PatientName', 'PatientSex', 'Collection'])"
      ]
     },
     "execution_count": 42,
     "metadata": {},
     "output_type": "execute_result"
    }
   ],
   "source": [
    "patients[0].keys()"
   ]
  },
  {
   "cell_type": "code",
   "execution_count": 53,
   "metadata": {},
   "outputs": [],
   "source": [
    "with tcia_client.get_collection_values(collections[0]) as response:\n",
    "    if response.status == 200:\n",
    "        data = response.read().decode('utf-8')\n",
    "        collection_data = json.loads(data)   "
   ]
  },
  {
   "cell_type": "code",
   "execution_count": 54,
   "metadata": {},
   "outputs": [
    {
     "data": {
      "text/plain": [
       "(89, {'Collection': 'TCGA-GBM'})"
      ]
     },
     "execution_count": 54,
     "metadata": {},
     "output_type": "execute_result"
    }
   ],
   "source": [
    "(len(collection_data),collection_data[0])"
   ]
  },
  {
   "cell_type": "code",
   "execution_count": 55,
   "metadata": {},
   "outputs": [],
   "source": [
    "with tcia_client.get_manufacturer_values(collections[0]) as response:\n",
    "    if response.status == 200:\n",
    "        data = response.read().decode('utf-8')\n",
    "        manufacturer_values = json.loads(data)   "
   ]
  },
  {
   "cell_type": "code",
   "execution_count": 56,
   "metadata": {},
   "outputs": [
    {
     "data": {
      "text/plain": [
       "(3, {'Manufacturer': 'GE MEDICAL SYSTEMS'})"
      ]
     },
     "execution_count": 56,
     "metadata": {},
     "output_type": "execute_result"
    }
   ],
   "source": [
    "(len(manufacturer_values),manufacturer_values[0])"
   ]
  },
  {
   "cell_type": "code",
   "execution_count": 57,
   "metadata": {},
   "outputs": [
    {
     "data": {
      "text/plain": [
       "[{'Manufacturer': 'GE MEDICAL SYSTEMS'},\n",
       " {'Manufacturer': 'SIEMENS'},\n",
       " {'Manufacturer': 'Philips'}]"
      ]
     },
     "execution_count": 57,
     "metadata": {},
     "output_type": "execute_result"
    }
   ],
   "source": [
    "manufacturer_values"
   ]
  },
  {
   "cell_type": "code",
   "execution_count": 53,
   "metadata": {},
   "outputs": [],
   "source": [
    "import requests\n",
    "import json\n",
    "from attrdict import AttrDict\n",
    "\n",
    "# see swagger docs\n",
    "# https://clinicalapi-cptac.esacinc.com/api/tcia/\n",
    "    \n",
    "base = 'https://clinicalapi-cptac.esacinc.com/api/tcia'\n",
    "\n",
    "tcia_config = AttrDict({\n",
    "    'programs': '{base}/programs/summary',\n",
    "    'studies': '{base}/studies/summary',\n",
    "    'clinical_data': '{base}/clinical_data/tumor_code/{tumor_code}',\n",
    "    'slides': '{base}/case/{case_id}/slides',    \n",
    "})\n",
    "\n",
    "# \"https://clinicalapi-cptac.esacinc.com/api/tcia/programs\"\n",
    "# requests.get(\"https://clinicalapi-cptac.esacinc.com/api/tcia/programs/summary\").json()\n",
    "\n",
    "programs = requests.get(tcia_config.programs.format(base=base)).json()\n",
    "with open('outputs/tcia/programs.json' , 'w') as outs:\n",
    "    for p in programs:\n",
    "        json.dump(p, outs)\n",
    "        outs.write('\\n')\n",
    "\n",
    "\n",
    "studies = requests.get(tcia_config.studies.format(base=base)).json()\n",
    "with open('outputs/tcia/studies.json' , 'w') as outs:\n",
    "    for s in studies:\n",
    "        json.dump(s, outs)\n",
    "        outs.write('\\n')\n",
    "        \n",
    "\n",
    "tcga_tumor_codes = set([s['TCGA_Tumor_Code'] for s in studies + programs])\n",
    "cptac_tumor_codes = set([s['CPTAC_Tumor_Code'] for s in studies + programs])\n",
    "\n",
    "tumor_codes = set(tcga_tumor_codes.union(cptac_tumor_codes))\n"
   ]
  },
  {
   "cell_type": "code",
   "execution_count": 56,
   "metadata": {},
   "outputs": [
    {
     "name": "stdout",
     "output_type": "stream",
     "text": [
      "tumor_code LAML status 400\n",
      "tumor_code KIRC status 400\n",
      "tumor_code PAAD status 400\n",
      "tumor_code SKCM status 400\n",
      "tumor_code LUSC status 400\n",
      "1390\n"
     ]
    }
   ],
   "source": [
    "case_ids = set()\n",
    "with open('outputs/tcia/clinical_data.json' , 'w') as outs:\n",
    "    for tumor_code in tumor_codes:\n",
    "        rsp = requests.get(tcia_config.clinical_data.format(base=base, tumor_code=tumor_code))\n",
    "        clinical_data = rsp.json()\n",
    "        if rsp.status_code != 200:\n",
    "            print('tumor_code {} status {}'.format(tumor_code, rsp.status_code))\n",
    "            continue\n",
    "        json.dump(clinical_data, outs)\n",
    "        outs.write('\\n')\n",
    "        case_ids.update([cd['case_id'] for cd in clinical_data])\n",
    "print(len(case_ids))        "
   ]
  },
  {
   "cell_type": "code",
   "execution_count": 37,
   "metadata": {},
   "outputs": [
    {
     "name": "stdout",
     "output_type": "stream",
     "text": [
      "5039\n"
     ]
    }
   ],
   "source": [
    "slide_ids = set()\n",
    "with open('outputs/tcia/slides.json' , 'w') as outs:\n",
    "    for case_id in case_ids:\n",
    "        url = tcia_config.slides.format(base=base, case_id=case_id)\n",
    "        case_slide_ids = requests.get(url).json()\n",
    "        slide_ids.update(case_slide_ids)\n",
    "print(len(slide_ids)) "
   ]
  },
  {
   "cell_type": "code",
   "execution_count": 40,
   "metadata": {},
   "outputs": [
    {
     "name": "stdout",
     "output_type": "stream",
     "text": [
      "18201\n"
     ]
    }
   ],
   "source": [
    "import json\n",
    "from tciaclient import TCIAClient\n",
    "api_key='76a553ad-1208-40db-b2ee-20e0edead0c8'\n",
    "tcia_client = TCIAClient(apiKey = api_key,baseUrl=\"https://services.cancerimagingarchive.net/services/v3\",resource = \"TCIA\")\n",
    "\n",
    "patients = []\n",
    "with tcia_client.get_patient() as response:\n",
    "    if response.status == 200:\n",
    "        data = response.read().decode('utf-8')\n",
    "        patients = json.loads(data)   \n",
    "\n",
    "print(len(patients))        \n",
    "        "
   ]
  },
  {
   "cell_type": "code",
   "execution_count": 47,
   "metadata": {},
   "outputs": [],
   "source": [
    "patient_ids = set([p['PatientID']for p in patients])"
   ]
  },
  {
   "cell_type": "code",
   "execution_count": 57,
   "metadata": {},
   "outputs": [
    {
     "data": {
      "image/png": "[encoded data removed]",
      "text/plain": [
       "<Figure size 468x756 with 4 Axes>"
      ]
     },
     "metadata": {
      "needs_background": "light"
     },
     "output_type": "display_data"
    }
   ],
   "source": [
    "#patient_ids.intersection(case_ids)\n",
    "\n",
    "import matplotlib.pyplot\n",
    "import pandas\n",
    "import upsetplot\n",
    "\n",
    "\n",
    "\n",
    "project_df =  pandas.DataFrame(upsetplot.from_contents(\n",
    "    {\n",
    "        'esacinc.com': case_ids,\n",
    "        'cancerimagingarchive.net': patient_ids\n",
    "    }    \n",
    "))\n",
    "\n",
    "\n",
    "upsetplot.plot(project_df, sort_by=\"cardinality\", sum_over=False, show_counts='%d' ) # \n",
    "current_figure = matplotlib.pyplot.gcf()\n",
    "current_figure.suptitle('cancerimagingarchive vs esacinc')\n",
    "current_figure.set_size_inches(6.5, 10.5)\n",
    "current_figure.savefig(\"participant_project.png\")"
   ]
  },
  {
   "cell_type": "code",
   "execution_count": 61,
   "metadata": {},
   "outputs": [
    {
     "data": {
      "text/plain": [
       "['C3L-00016',\n",
       " 'C3L-00017',\n",
       " 'C3L-00019',\n",
       " 'C3L-00189',\n",
       " 'C3L-00263',\n",
       " 'C3L-00265',\n",
       " 'C3L-00275',\n",
       " 'C3L-00277',\n",
       " 'C3L-00278',\n",
       " 'C3L-00279']"
      ]
     },
     "execution_count": 61,
     "metadata": {},
     "output_type": "execute_result"
    }
   ],
   "source": [
    "# patient_ids created from cancerimaging, case_ids created from esac\n",
    "list(sorted(patient_ids.intersection(case_ids)))[:10]"
   ]
  },
  {
   "cell_type": "code",
   "execution_count": 67,
   "metadata": {},
   "outputs": [
    {
     "data": {
      "text/plain": [
       "['Mass-Training_P_01039_RIGHT_MLO_5',\n",
       " '520664924',\n",
       " 'Calc-Training_P_00750_RIGHT_CC_1',\n",
       " '1.3.6.1.4.1.9328.50.4.0005',\n",
       " '1.3.6.1.4.1.9328.50.4.0122',\n",
       " 'UCSF-BR-14',\n",
       " '1.3.6.1.4.1.9328.50.4.0194',\n",
       " 'LIDC-IDRI-0055',\n",
       " 'ISPY1_1010',\n",
       " 'Mass-Training_P_01241_RIGHT_MLO']"
      ]
     },
     "execution_count": 67,
     "metadata": {},
     "output_type": "execute_result"
    }
   ],
   "source": [
    "list(patient_ids - case_ids)[:10]"
   ]
  },
  {
   "cell_type": "code",
   "execution_count": 68,
   "metadata": {},
   "outputs": [
    {
     "data": {
      "text/plain": [
       "['C3N-04273',\n",
       " 'C3N-02763',\n",
       " 'C3N-02237',\n",
       " 'C3N-02264',\n",
       " 'C3N-01082',\n",
       " 'C3N-01818',\n",
       " 'C3N-03781',\n",
       " 'C3L-01631',\n",
       " 'C3L-00789',\n",
       " 'C3N-00436']"
      ]
     },
     "execution_count": 68,
     "metadata": {},
     "output_type": "execute_result"
    }
   ],
   "source": [
    "list(case_ids - patient_ids)[:10]"
   ]
  }
 ],
 "metadata": {
  "kernelspec": {
   "display_name": "Python 3",
   "language": "python",
   "name": "python3"
  },
  "language_info": {
   "codemirror_mode": {
    "name": "ipython",
    "version": 3
   },
   "file_extension": ".py",
   "mimetype": "text/x-python",
   "name": "python",
   "nbconvert_exporter": "python",
   "pygments_lexer": "ipython3",
   "version": "3.7.3"
  }
 },
 "nbformat": 4,
 "nbformat_minor": 2
}
